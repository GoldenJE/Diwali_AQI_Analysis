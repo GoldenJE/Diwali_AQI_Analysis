{
  "cells": [
    {
      "cell_type": "markdown",
      "metadata": {
        "id": "hRVn88AjbPY_"
      },
      "source": [
        "___\n",
        "\n",
        "<a href='http://www.pieriandata.com'><img src='../Pierian_Data_Logo.png'/></a>\n",
        "___\n",
        "<center><em>Copyright by Pierian Data Inc.</em></center>\n",
        "<center><em>For more information, visit us at <a href='http://www.pieriandata.com'>www.pieriandata.com</a></em></center>"
      ]
    },
    {
      "cell_type": "markdown",
      "source": [],
      "metadata": {
        "id": "bPjoet3xrb9j"
      }
    },
    {
      "cell_type": "markdown",
      "metadata": {
        "id": "o2otqW5KbPZF"
      },
      "source": [
        "## Imports"
      ]
    },
    {
      "cell_type": "code",
      "execution_count": 1,
      "metadata": {
        "id": "02Zrv3FCbPZG"
      },
      "outputs": [],
      "source": [
        "import numpy as np\n",
        "import pandas as pd\n",
        "import matplotlib.pyplot as plt\n",
        "import seaborn as sns"
      ]
    },
    {
      "cell_type": "code",
      "execution_count": 2,
      "metadata": {
        "id": "O7Aol8c9bPZJ"
      },
      "outputs": [],
      "source": [
        "dataset = pd.read_csv(\"/content/ CITY_AQI.csv\")"
      ]
    },
    {
      "cell_type": "code",
      "execution_count": 3,
      "metadata": {
        "colab": {
          "base_uri": "https://localhost:8080/",
          "height": 204
        },
        "id": "NHJcN9GBbPZJ",
        "outputId": "8e5dc68f-caf8-4004-fd6c-b5f6e3957e14"
      },
      "outputs": [
        {
          "output_type": "execute_result",
          "data": {
            "text/plain": [
              "        City        Date  AQI  Population  Literacy_rate   GDP\n",
              "0  Ahmedabad  2019-10-28  212     7868633       0.886364  68.0\n",
              "1  Amaravati  2019-10-28   67      741000       0.920635  62.9\n",
              "2  Bengaluru  2019-10-28   88    11883000       0.887097  78.0\n",
              "3     Bhopal  2019-10-28  228     2333000       0.833333   4.0\n",
              "4    Chennai  2019-10-28  208    10711243       0.901961  70.0"
            ],
            "text/html": [
              "\n",
              "  <div id=\"df-e62c058e-5bf3-412c-8fed-2012bd216ef2\">\n",
              "    <div class=\"colab-df-container\">\n",
              "      <div>\n",
              "<style scoped>\n",
              "    .dataframe tbody tr th:only-of-type {\n",
              "        vertical-align: middle;\n",
              "    }\n",
              "\n",
              "    .dataframe tbody tr th {\n",
              "        vertical-align: top;\n",
              "    }\n",
              "\n",
              "    .dataframe thead th {\n",
              "        text-align: right;\n",
              "    }\n",
              "</style>\n",
              "<table border=\"1\" class=\"dataframe\">\n",
              "  <thead>\n",
              "    <tr style=\"text-align: right;\">\n",
              "      <th></th>\n",
              "      <th>City</th>\n",
              "      <th>Date</th>\n",
              "      <th>AQI</th>\n",
              "      <th>Population</th>\n",
              "      <th>Literacy_rate</th>\n",
              "      <th>GDP</th>\n",
              "    </tr>\n",
              "  </thead>\n",
              "  <tbody>\n",
              "    <tr>\n",
              "      <th>0</th>\n",
              "      <td>Ahmedabad</td>\n",
              "      <td>2019-10-28</td>\n",
              "      <td>212</td>\n",
              "      <td>7868633</td>\n",
              "      <td>0.886364</td>\n",
              "      <td>68.0</td>\n",
              "    </tr>\n",
              "    <tr>\n",
              "      <th>1</th>\n",
              "      <td>Amaravati</td>\n",
              "      <td>2019-10-28</td>\n",
              "      <td>67</td>\n",
              "      <td>741000</td>\n",
              "      <td>0.920635</td>\n",
              "      <td>62.9</td>\n",
              "    </tr>\n",
              "    <tr>\n",
              "      <th>2</th>\n",
              "      <td>Bengaluru</td>\n",
              "      <td>2019-10-28</td>\n",
              "      <td>88</td>\n",
              "      <td>11883000</td>\n",
              "      <td>0.887097</td>\n",
              "      <td>78.0</td>\n",
              "    </tr>\n",
              "    <tr>\n",
              "      <th>3</th>\n",
              "      <td>Bhopal</td>\n",
              "      <td>2019-10-28</td>\n",
              "      <td>228</td>\n",
              "      <td>2333000</td>\n",
              "      <td>0.833333</td>\n",
              "      <td>4.0</td>\n",
              "    </tr>\n",
              "    <tr>\n",
              "      <th>4</th>\n",
              "      <td>Chennai</td>\n",
              "      <td>2019-10-28</td>\n",
              "      <td>208</td>\n",
              "      <td>10711243</td>\n",
              "      <td>0.901961</td>\n",
              "      <td>70.0</td>\n",
              "    </tr>\n",
              "  </tbody>\n",
              "</table>\n",
              "</div>\n",
              "      <button class=\"colab-df-convert\" onclick=\"convertToInteractive('df-e62c058e-5bf3-412c-8fed-2012bd216ef2')\"\n",
              "              title=\"Convert this dataframe to an interactive table.\"\n",
              "              style=\"display:none;\">\n",
              "        \n",
              "  <svg xmlns=\"http://www.w3.org/2000/svg\" height=\"24px\"viewBox=\"0 0 24 24\"\n",
              "       width=\"24px\">\n",
              "    <path d=\"M0 0h24v24H0V0z\" fill=\"none\"/>\n",
              "    <path d=\"M18.56 5.44l.94 2.06.94-2.06 2.06-.94-2.06-.94-.94-2.06-.94 2.06-2.06.94zm-11 1L8.5 8.5l.94-2.06 2.06-.94-2.06-.94L8.5 2.5l-.94 2.06-2.06.94zm10 10l.94 2.06.94-2.06 2.06-.94-2.06-.94-.94-2.06-.94 2.06-2.06.94z\"/><path d=\"M17.41 7.96l-1.37-1.37c-.4-.4-.92-.59-1.43-.59-.52 0-1.04.2-1.43.59L10.3 9.45l-7.72 7.72c-.78.78-.78 2.05 0 2.83L4 21.41c.39.39.9.59 1.41.59.51 0 1.02-.2 1.41-.59l7.78-7.78 2.81-2.81c.8-.78.8-2.07 0-2.86zM5.41 20L4 18.59l7.72-7.72 1.47 1.35L5.41 20z\"/>\n",
              "  </svg>\n",
              "      </button>\n",
              "      \n",
              "  <style>\n",
              "    .colab-df-container {\n",
              "      display:flex;\n",
              "      flex-wrap:wrap;\n",
              "      gap: 12px;\n",
              "    }\n",
              "\n",
              "    .colab-df-convert {\n",
              "      background-color: #E8F0FE;\n",
              "      border: none;\n",
              "      border-radius: 50%;\n",
              "      cursor: pointer;\n",
              "      display: none;\n",
              "      fill: #1967D2;\n",
              "      height: 32px;\n",
              "      padding: 0 0 0 0;\n",
              "      width: 32px;\n",
              "    }\n",
              "\n",
              "    .colab-df-convert:hover {\n",
              "      background-color: #E2EBFA;\n",
              "      box-shadow: 0px 1px 2px rgba(60, 64, 67, 0.3), 0px 1px 3px 1px rgba(60, 64, 67, 0.15);\n",
              "      fill: #174EA6;\n",
              "    }\n",
              "\n",
              "    [theme=dark] .colab-df-convert {\n",
              "      background-color: #3B4455;\n",
              "      fill: #D2E3FC;\n",
              "    }\n",
              "\n",
              "    [theme=dark] .colab-df-convert:hover {\n",
              "      background-color: #434B5C;\n",
              "      box-shadow: 0px 1px 3px 1px rgba(0, 0, 0, 0.15);\n",
              "      filter: drop-shadow(0px 1px 2px rgba(0, 0, 0, 0.3));\n",
              "      fill: #FFFFFF;\n",
              "    }\n",
              "  </style>\n",
              "\n",
              "      <script>\n",
              "        const buttonEl =\n",
              "          document.querySelector('#df-e62c058e-5bf3-412c-8fed-2012bd216ef2 button.colab-df-convert');\n",
              "        buttonEl.style.display =\n",
              "          google.colab.kernel.accessAllowed ? 'block' : 'none';\n",
              "\n",
              "        async function convertToInteractive(key) {\n",
              "          const element = document.querySelector('#df-e62c058e-5bf3-412c-8fed-2012bd216ef2');\n",
              "          const dataTable =\n",
              "            await google.colab.kernel.invokeFunction('convertToInteractive',\n",
              "                                                     [key], {});\n",
              "          if (!dataTable) return;\n",
              "\n",
              "          const docLinkHtml = 'Like what you see? Visit the ' +\n",
              "            '<a target=\"_blank\" href=https://colab.research.google.com/notebooks/data_table.ipynb>data table notebook</a>'\n",
              "            + ' to learn more about interactive tables.';\n",
              "          element.innerHTML = '';\n",
              "          dataTable['output_type'] = 'display_data';\n",
              "          await google.colab.output.renderOutput(dataTable, element);\n",
              "          const docLink = document.createElement('div');\n",
              "          docLink.innerHTML = docLinkHtml;\n",
              "          element.appendChild(docLink);\n",
              "        }\n",
              "      </script>\n",
              "    </div>\n",
              "  </div>\n",
              "  "
            ]
          },
          "metadata": {},
          "execution_count": 3
        }
      ],
      "source": [
        "dataset.head()"
      ]
    },
    {
      "cell_type": "code",
      "source": [
        "dataset['Date'] = pd.to_datetime(dataset['Date'],format='%Y-%m-%d') # date parse\n",
        "\n",
        "df = dataset[['AQI','City']].groupby(dataset['Date']).median().reset_index().sort_values(by='Date',ascending=False)\n",
        "\n",
        "\n",
        "x = dataset['AQI']\n",
        "y = dataset['City']\n",
        "sns.barplot(y,x)\n",
        "plt.xticks(rotation=30)\n"
      ],
      "metadata": {
        "colab": {
          "base_uri": "https://localhost:8080/",
          "height": 419
        },
        "id": "YMxHbO8SUstZ",
        "outputId": "bd88a93d-62f6-4bf3-bc92-0330fdbf5247"
      },
      "execution_count": 4,
      "outputs": [
        {
          "output_type": "stream",
          "name": "stderr",
          "text": [
            "/usr/local/lib/python3.8/dist-packages/seaborn/_decorators.py:36: FutureWarning: Pass the following variables as keyword args: x, y. From version 0.12, the only valid positional argument will be `data`, and passing other arguments without an explicit keyword will result in an error or misinterpretation.\n",
            "  warnings.warn(\n"
          ]
        },
        {
          "output_type": "execute_result",
          "data": {
            "text/plain": [
              "(array([ 0,  1,  2,  3,  4,  5,  6,  7,  8,  9, 10, 11, 12, 13]),\n",
              " <a list of 14 Text major ticklabel objects>)"
            ]
          },
          "metadata": {},
          "execution_count": 4
        },
        {
          "output_type": "display_data",
          "data": {
            "text/plain": [
              "<Figure size 432x288 with 1 Axes>"
            ],
            "image/png": "[encoded data removed]"
          },
          "metadata": {
            "needs_background": "light"
          }
        }
      ]
    },
    {
      "cell_type": "code",
      "source": [
        "dataset.head()"
      ],
      "metadata": {
        "colab": {
          "base_uri": "https://localhost:8080/",
          "height": 204
        },
        "id": "LMHKUmWXZZUD",
        "outputId": "2373668c-1636-4278-a5a9-9c4c87aa9a10"
      },
      "execution_count": 5,
      "outputs": [
        {
          "output_type": "execute_result",
          "data": {
            "text/plain": [
              "        City       Date  AQI  Population  Literacy_rate   GDP\n",
              "0  Ahmedabad 2019-10-28  212     7868633       0.886364  68.0\n",
              "1  Amaravati 2019-10-28   67      741000       0.920635  62.9\n",
              "2  Bengaluru 2019-10-28   88    11883000       0.887097  78.0\n",
              "3     Bhopal 2019-10-28  228     2333000       0.833333   4.0\n",
              "4    Chennai 2019-10-28  208    10711243       0.901961  70.0"
            ],
            "text/html": [
              "\n",
              "  <div id=\"df-a2e77aae-9bb4-4f19-9d6c-968ee24ab2e7\">\n",
              "    <div class=\"colab-df-container\">\n",
              "      <div>\n",
              "<style scoped>\n",
              "    .dataframe tbody tr th:only-of-type {\n",
              "        vertical-align: middle;\n",
              "    }\n",
              "\n",
              "    .dataframe tbody tr th {\n",
              "        vertical-align: top;\n",
              "    }\n",
              "\n",
              "    .dataframe thead th {\n",
              "        text-align: right;\n",
              "    }\n",
              "</style>\n",
              "<table border=\"1\" class=\"dataframe\">\n",
              "  <thead>\n",
              "    <tr style=\"text-align: right;\">\n",
              "      <th></th>\n",
              "      <th>City</th>\n",
              "      <th>Date</th>\n",
              "      <th>AQI</th>\n",
              "      <th>Population</th>\n",
              "      <th>Literacy_rate</th>\n",
              "      <th>GDP</th>\n",
              "    </tr>\n",
              "  </thead>\n",
              "  <tbody>\n",
              "    <tr>\n",
              "      <th>0</th>\n",
              "      <td>Ahmedabad</td>\n",
              "      <td>2019-10-28</td>\n",
              "      <td>212</td>\n",
              "      <td>7868633</td>\n",
              "      <td>0.886364</td>\n",
              "      <td>68.0</td>\n",
              "    </tr>\n",
              "    <tr>\n",
              "      <th>1</th>\n",
              "      <td>Amaravati</td>\n",
              "      <td>2019-10-28</td>\n",
              "      <td>67</td>\n",
              "      <td>741000</td>\n",
              "      <td>0.920635</td>\n",
              "      <td>62.9</td>\n",
              "    </tr>\n",
              "    <tr>\n",
              "      <th>2</th>\n",
              "      <td>Bengaluru</td>\n",
              "      <td>2019-10-28</td>\n",
              "      <td>88</td>\n",
              "      <td>11883000</td>\n",
              "      <td>0.887097</td>\n",
              "      <td>78.0</td>\n",
              "    </tr>\n",
              "    <tr>\n",
              "      <th>3</th>\n",
              "      <td>Bhopal</td>\n",
              "      <td>2019-10-28</td>\n",
              "      <td>228</td>\n",
              "      <td>2333000</td>\n",
              "      <td>0.833333</td>\n",
              "      <td>4.0</td>\n",
              "    </tr>\n",
              "    <tr>\n",
              "      <th>4</th>\n",
              "      <td>Chennai</td>\n",
              "      <td>2019-10-28</td>\n",
              "      <td>208</td>\n",
              "      <td>10711243</td>\n",
              "      <td>0.901961</td>\n",
              "      <td>70.0</td>\n",
              "    </tr>\n",
              "  </tbody>\n",
              "</table>\n",
              "</div>\n",
              "      <button class=\"colab-df-convert\" onclick=\"convertToInteractive('df-a2e77aae-9bb4-4f19-9d6c-968ee24ab2e7')\"\n",
              "              title=\"Convert this dataframe to an interactive table.\"\n",
              "              style=\"display:none;\">\n",
              "        \n",
              "  <svg xmlns=\"http://www.w3.org/2000/svg\" height=\"24px\"viewBox=\"0 0 24 24\"\n",
              "       width=\"24px\">\n",
              "    <path d=\"M0 0h24v24H0V0z\" fill=\"none\"/>\n",
              "    <path d=\"M18.56 5.44l.94 2.06.94-2.06 2.06-.94-2.06-.94-.94-2.06-.94 2.06-2.06.94zm-11 1L8.5 8.5l.94-2.06 2.06-.94-2.06-.94L8.5 2.5l-.94 2.06-2.06.94zm10 10l.94 2.06.94-2.06 2.06-.94-2.06-.94-.94-2.06-.94 2.06-2.06.94z\"/><path d=\"M17.41 7.96l-1.37-1.37c-.4-.4-.92-.59-1.43-.59-.52 0-1.04.2-1.43.59L10.3 9.45l-7.72 7.72c-.78.78-.78 2.05 0 2.83L4 21.41c.39.39.9.59 1.41.59.51 0 1.02-.2 1.41-.59l7.78-7.78 2.81-2.81c.8-.78.8-2.07 0-2.86zM5.41 20L4 18.59l7.72-7.72 1.47 1.35L5.41 20z\"/>\n",
              "  </svg>\n",
              "      </button>\n",
              "      \n",
              "  <style>\n",
              "    .colab-df-container {\n",
              "      display:flex;\n",
              "      flex-wrap:wrap;\n",
              "      gap: 12px;\n",
              "    }\n",
              "\n",
              "    .colab-df-convert {\n",
              "      background-color: #E8F0FE;\n",
              "      border: none;\n",
              "      border-radius: 50%;\n",
              "      cursor: pointer;\n",
              "      display: none;\n",
              "      fill: #1967D2;\n",
              "      height: 32px;\n",
              "      padding: 0 0 0 0;\n",
              "      width: 32px;\n",
              "    }\n",
              "\n",
              "    .colab-df-convert:hover {\n",
              "      background-color: #E2EBFA;\n",
              "      box-shadow: 0px 1px 2px rgba(60, 64, 67, 0.3), 0px 1px 3px 1px rgba(60, 64, 67, 0.15);\n",
              "      fill: #174EA6;\n",
              "    }\n",
              "\n",
              "    [theme=dark] .colab-df-convert {\n",
              "      background-color: #3B4455;\n",
              "      fill: #D2E3FC;\n",
              "    }\n",
              "\n",
              "    [theme=dark] .colab-df-convert:hover {\n",
              "      background-color: #434B5C;\n",
              "      box-shadow: 0px 1px 3px 1px rgba(0, 0, 0, 0.15);\n",
              "      filter: drop-shadow(0px 1px 2px rgba(0, 0, 0, 0.3));\n",
              "      fill: #FFFFFF;\n",
              "    }\n",
              "  </style>\n",
              "\n",
              "      <script>\n",
              "        const buttonEl =\n",
              "          document.querySelector('#df-a2e77aae-9bb4-4f19-9d6c-968ee24ab2e7 button.colab-df-convert');\n",
              "        buttonEl.style.display =\n",
              "          google.colab.kernel.accessAllowed ? 'block' : 'none';\n",
              "\n",
              "        async function convertToInteractive(key) {\n",
              "          const element = document.querySelector('#df-a2e77aae-9bb4-4f19-9d6c-968ee24ab2e7');\n",
              "          const dataTable =\n",
              "            await google.colab.kernel.invokeFunction('convertToInteractive',\n",
              "                                                     [key], {});\n",
              "          if (!dataTable) return;\n",
              "\n",
              "          const docLinkHtml = 'Like what you see? Visit the ' +\n",
              "            '<a target=\"_blank\" href=https://colab.research.google.com/notebooks/data_table.ipynb>data table notebook</a>'\n",
              "            + ' to learn more about interactive tables.';\n",
              "          element.innerHTML = '';\n",
              "          dataTable['output_type'] = 'display_data';\n",
              "          await google.colab.output.renderOutput(dataTable, element);\n",
              "          const docLink = document.createElement('div');\n",
              "          docLink.innerHTML = docLinkHtml;\n",
              "          element.appendChild(docLink);\n",
              "        }\n",
              "      </script>\n",
              "    </div>\n",
              "  </div>\n",
              "  "
            ]
          },
          "metadata": {},
          "execution_count": 5
        }
      ]
    },
    {
      "cell_type": "code",
      "source": [
        "fig, axes = plt.subplots(nrows=2, ncols=2, figsize=(40,40))\n",
        "city_AQI = dataset[['City','AQI']].groupby('City').mean()\n",
        "city_AQI.reset_index(inplace = True)\n",
        "city_AQI.sort_values('AQI', ascending= False, inplace = True)\n",
        "city_AQI.plot(kind = 'bar', figsize= (20,10), x = 'City', fontsize= 15, title = ' Cities & Pollutant Levels',ax=axes[0][0])\n",
        "\n",
        "City_population = dataset[['City','Population']].groupby('City').mean()\n",
        "City_population.reset_index(inplace = True)\n",
        "City_population.sort_values('Population', ascending= False, inplace = True)\n",
        "City_population.plot(kind = 'bar', figsize= (20,14), x = 'City', fontsize= 15, title = ' Cities & Population Levels',ax=axes[0][1])\n",
        "\n",
        "City_Literacy = dataset[['City','Literacy_rate']].groupby('City').mean()\n",
        "City_Literacy.reset_index(inplace = True)\n",
        "City_Literacy.sort_values('Literacy_rate', ascending= False, inplace = True)\n",
        "City_Literacy.plot(kind = 'bar', figsize= (20,14), x = 'City', fontsize= 15, title = ' Cities & Literacy Levels',ax=axes[1][0])\n",
        "\n",
        "\n",
        "City_GDP = dataset[['GDP','City']].groupby('City').mean()\n",
        "City_GDP.reset_index(inplace = True)\n",
        "City_GDP.sort_values('GDP', ascending= False, inplace = True)\n",
        "City_GDP.plot(kind = 'bar', figsize= (20,10), x = 'City', fontsize= 15, title = '  GDP Levels',ax=axes[1][1])\n",
        "\n"
      ],
      "metadata": {
        "colab": {
          "base_uri": "https://localhost:8080/",
          "height": 692
        },
        "id": "KIf8fiGtU3FZ",
        "outputId": "5bac152c-c5eb-48e8-d9c5-12420c733b78"
      },
      "execution_count": 6,
      "outputs": [
        {
          "output_type": "execute_result",
          "data": {
            "text/plain": [
              "<matplotlib.axes._subplots.AxesSubplot at 0x7faf1362fa90>"
            ]
          },
          "metadata": {},
          "execution_count": 6
        },
        {
          "output_type": "display_data",
          "data": {
            "text/plain": [
              "<Figure size 1440x720 with 4 Axes>"
            ],
            "image/png": "[encoded data removed]"
          },
          "metadata": {
            "needs_background": "light"
          }
        }
      ]
    },
    {
      "cell_type": "code",
      "execution_count": 7,
      "metadata": {
        "id": "4doy5w47bPZK"
      },
      "outputs": [],
      "source": [
        "# Everything BUT the sales column\n",
        "X = dataset.drop(['AQI', 'Date','City'], axis=1)"
      ]
    },
    {
      "cell_type": "code",
      "source": [
        "print(X)"
      ],
      "metadata": {
        "colab": {
          "base_uri": "https://localhost:8080/"
        },
        "id": "HH6xS9AZaRbb",
        "outputId": "4337d8de-bfea-407c-9111-17d14151b30c"
      },
      "execution_count": 8,
      "outputs": [
        {
          "output_type": "stream",
          "name": "stdout",
          "text": [
            "    Population  Literacy_rate     GDP\n",
            "0      7868633       0.886364   68.00\n",
            "1       741000       0.920635   62.90\n",
            "2     11883000       0.887097   78.00\n",
            "3      2333000       0.833333    4.00\n",
            "4     10711243       0.901961   70.00\n",
            "5     29399000       0.862069  272.00\n",
            "6      9741000       0.833333   74.00\n",
            "7      3812000       0.727273   40.00\n",
            "8     14755000       0.863158  150.10\n",
            "9      3590000       0.825000    7.68\n",
            "10    20185000       0.897436  277.00\n",
            "11     2378000       0.833333   15.50\n",
            "12     2477000       0.951220   13.60\n",
            "13     2125000       0.818182   43.50\n"
          ]
        }
      ]
    },
    {
      "cell_type": "code",
      "execution_count": 25,
      "metadata": {
        "id": "fGk5j57zbPZL"
      },
      "outputs": [],
      "source": [
        "y = dataset['AQI']"
      ]
    },
    {
      "cell_type": "code",
      "source": [
        "print(dataset['AQI'])"
      ],
      "metadata": {
        "colab": {
          "base_uri": "https://localhost:8080/"
        },
        "id": "qjVYlcuceLdP",
        "outputId": "e8e079c3-ce56-45d7-c434-0f5a35664d26"
      },
      "execution_count": 26,
      "outputs": [
        {
          "output_type": "stream",
          "name": "stdout",
          "text": [
            "0     212\n",
            "1      67\n",
            "2      88\n",
            "3     228\n",
            "4     208\n",
            "5     417\n",
            "6     126\n",
            "7     355\n",
            "8     289\n",
            "9     356\n",
            "10     92\n",
            "11    408\n",
            "12     69\n",
            "13    284\n",
            "Name: AQI, dtype: int64\n"
          ]
        }
      ]
    },
    {
      "cell_type": "markdown",
      "metadata": {
        "id": "dsnkJAvqbPZL"
      },
      "source": [
        "## Polynomial Regression"
      ]
    },
    {
      "cell_type": "markdown",
      "metadata": {
        "id": "Jw-qm7RFbPZL"
      },
      "source": [
        "**From Preprocessing, import PolynomialFeatures, which will help us transform our original data set by adding polynomial features**\n",
        "\n",
        "We will go from the equation in the form (shown here as if we only had one x feature):\n",
        "\n",
        "$$\\hat{y} = \\beta_0 + \\beta_1x_1 + \\epsilon $$\n",
        "\n",
        "and create more features from the original x feature for some *d* degree of polynomial.\n",
        "\n",
        "$$\\hat{y} = \\beta_0 + \\beta_1x_1 + \\beta_1x^2_1 +  ... + \\beta_dx^d_1 + \\epsilon$$\n",
        "\n",
        "Then we can call the linear regression model on it, since in reality, we're just treating these new polynomial features x^2, x^3, ... x^d as new features. Obviously we need to be careful about choosing the correct value of *d* , the degree of the model. Our metric results on the test set will help us with this!\n",
        "\n",
        "**The other thing to note here is we have multiple X features, not just a single one as in the formula above, so in reality, the PolynomialFeatures will also take *interaction* terms into account for example, if an input sample is two dimensional and of the form [a, b], the degree-2 polynomial features are [1, a, b, a^2, ab, b^2].**"
      ]
    },
    {
      "cell_type": "code",
      "execution_count": 27,
      "metadata": {
        "id": "D1lm87g4bPZM"
      },
      "outputs": [],
      "source": [
        "from sklearn.preprocessing import PolynomialFeatures"
      ]
    },
    {
      "cell_type": "code",
      "source": [
        "polynomial_converter = PolynomialFeatures(degree=3,include_bias=False)"
      ],
      "metadata": {
        "id": "DkAgkWijbM4f"
      },
      "execution_count": 28,
      "outputs": []
    },
    {
      "cell_type": "code",
      "source": [
        "poly_features = polynomial_converter.fit_transform(X)"
      ],
      "metadata": {
        "id": "TKIFDTB2bSyC"
      },
      "execution_count": 30,
      "outputs": []
    },
    {
      "cell_type": "code",
      "execution_count": 31,
      "metadata": {
        "colab": {
          "base_uri": "https://localhost:8080/"
        },
        "id": "BxOqQ8R8bPZN",
        "outputId": "ea879da6-b247-414a-ca4b-6498e79f0e3d"
      },
      "outputs": [
        {
          "output_type": "execute_result",
          "data": {
            "text/plain": [
              "(14, 3)"
            ]
          },
          "metadata": {},
          "execution_count": 31
        }
      ],
      "source": [
        "X.shape"
      ]
    },
    {
      "cell_type": "code",
      "execution_count": 32,
      "metadata": {
        "colab": {
          "base_uri": "https://localhost:8080/"
        },
        "id": "-GCAvnllbPZN",
        "outputId": "4b9d25ec-b20b-4c26-8afe-d66ba1515c22"
      },
      "outputs": [
        {
          "output_type": "execute_result",
          "data": {
            "text/plain": [
              "Population       7.868633e+06\n",
              "Literacy_rate    8.863636e-01\n",
              "GDP              6.800000e+01\n",
              "Name: 0, dtype: float64"
            ]
          },
          "metadata": {},
          "execution_count": 32
        }
      ],
      "source": [
        "X.iloc[0]"
      ]
    },
    {
      "cell_type": "code",
      "source": [
        "poly_features[0]"
      ],
      "metadata": {
        "colab": {
          "base_uri": "https://localhost:8080/"
        },
        "id": "fWPsz4m5b9fo",
        "outputId": "88726188-f20a-467b-bb7e-cf58eecdfd2a"
      },
      "execution_count": 33,
      "outputs": [
        {
          "output_type": "execute_result",
          "data": {
            "text/plain": [
              "array([7.86863300e+06, 8.86363636e-01, 6.80000000e+01, 6.19153853e+13,\n",
              "       6.97447016e+06, 5.35067044e+08, 7.85640495e-01, 6.02727272e+01,\n",
              "       4.62400000e+03, 4.87189444e+20, 5.48795460e+13, 4.21024620e+15,\n",
              "       6.18191673e+06, 4.74263971e+08, 3.63845590e+10, 6.96363166e-01,\n",
              "       5.34235537e+01, 4.09854545e+03, 3.14432000e+05])"
            ]
          },
          "metadata": {},
          "execution_count": 33
        }
      ]
    },
    {
      "cell_type": "code",
      "source": [
        "poly_features[0][:3]"
      ],
      "metadata": {
        "colab": {
          "base_uri": "https://localhost:8080/"
        },
        "id": "MztLlk15cB2i",
        "outputId": "af7efe97-9721-4951-90d4-ad422007d286"
      },
      "execution_count": 34,
      "outputs": [
        {
          "output_type": "execute_result",
          "data": {
            "text/plain": [
              "array([7.86863300e+06, 8.86363636e-01, 6.80000000e+01])"
            ]
          },
          "metadata": {},
          "execution_count": 34
        }
      ]
    },
    {
      "cell_type": "code",
      "source": [
        "poly_features[0][:3]**2"
      ],
      "metadata": {
        "colab": {
          "base_uri": "https://localhost:8080/"
        },
        "id": "BLrlz9CEctmg",
        "outputId": "a4a7b797-a601-4966-8b19-e9fce3cc1649"
      },
      "execution_count": 35,
      "outputs": [
        {
          "output_type": "execute_result",
          "data": {
            "text/plain": [
              "array([6.19153853e+13, 7.85640495e-01, 4.62400000e+03])"
            ]
          },
          "metadata": {},
          "execution_count": 35
        }
      ]
    },
    {
      "cell_type": "code",
      "source": [
        "print(X.shape,  y.shape)"
      ],
      "metadata": {
        "colab": {
          "base_uri": "https://localhost:8080/"
        },
        "id": "NMIoAJSedsDB",
        "outputId": "aa5131b7-2abf-452c-ca50-2cdb0a03c12c"
      },
      "execution_count": 36,
      "outputs": [
        {
          "output_type": "stream",
          "name": "stdout",
          "text": [
            "(14, 3) (14,)\n"
          ]
        }
      ]
    },
    {
      "cell_type": "markdown",
      "metadata": {
        "id": "QAKP7KsnbPZP"
      },
      "source": [
        "## Train | Test Split\n",
        "\n",
        "Make sure you have watched the Machine Learning Overview videos on Supervised Learning to understand why we do this step"
      ]
    },
    {
      "cell_type": "code",
      "execution_count": 37,
      "metadata": {
        "id": "pTT95mClbPZR"
      },
      "outputs": [],
      "source": [
        "from sklearn.model_selection import train_test_split"
      ]
    },
    {
      "cell_type": "code",
      "execution_count": 38,
      "metadata": {
        "id": "5TKsIFKvbPZS"
      },
      "outputs": [],
      "source": [
        "# random_state: \n",
        "# https://stackoverflow.com/questions/28064634/random-state-pseudo-random-number-in-scikit-learn\n",
        "X_train, X_test, y_train, y_test = train_test_split(poly_features, y, test_size=0.3, random_state=101)"
      ]
    },
    {
      "cell_type": "markdown",
      "metadata": {
        "id": "kRykURL-bPZS"
      },
      "source": [
        "### Model for fitting on Polynomial Data\n",
        "\n",
        "#### Create an instance of the model with parameters"
      ]
    },
    {
      "cell_type": "code",
      "execution_count": 39,
      "metadata": {
        "id": "jG7B2EU0bPZT"
      },
      "outputs": [],
      "source": [
        "from sklearn.linear_model import LinearRegression"
      ]
    },
    {
      "cell_type": "code",
      "execution_count": 40,
      "metadata": {
        "id": "2Y_e0e76bPZT"
      },
      "outputs": [],
      "source": [
        "model = LinearRegression(fit_intercept=True)"
      ]
    },
    {
      "cell_type": "markdown",
      "metadata": {
        "id": "u5xY2GrHbPZT"
      },
      "source": [
        "### Fit/Train the Model on the training data\n",
        "\n",
        "**Make sure you only fit to the training data, in order to fairly evaluate your model's performance on future data**"
      ]
    },
    {
      "cell_type": "code",
      "execution_count": 41,
      "metadata": {
        "colab": {
          "base_uri": "https://localhost:8080/"
        },
        "id": "sJtercbnbPZT",
        "outputId": "322eed39-62e9-4f20-a89e-531fe4ed06a2"
      },
      "outputs": [
        {
          "output_type": "execute_result",
          "data": {
            "text/plain": [
              "LinearRegression()"
            ]
          },
          "metadata": {},
          "execution_count": 41
        }
      ],
      "source": [
        "model.fit(X_train,y_train)"
      ]
    },
    {
      "cell_type": "markdown",
      "metadata": {
        "id": "2BGZpr9lbPZU"
      },
      "source": [
        "\n",
        "-----\n",
        "\n",
        "## Evaluation on the Test Set"
      ]
    },
    {
      "cell_type": "markdown",
      "metadata": {
        "id": "sjQ8Mxs1bPZU"
      },
      "source": [
        "### Calculate Performance on Test Set\n",
        "\n",
        "We want to fairly evaluate our model, so we get performance metrics on the test set (data the model has never seen before)."
      ]
    },
    {
      "cell_type": "code",
      "execution_count": 42,
      "metadata": {
        "id": "9-76WacjbPZV"
      },
      "outputs": [],
      "source": [
        "test_predictions = model.predict(X_test)"
      ]
    },
    {
      "cell_type": "code",
      "execution_count": 43,
      "metadata": {
        "id": "ZSCcerxbbPZV"
      },
      "outputs": [],
      "source": [
        "from sklearn.metrics import mean_absolute_error,mean_squared_error"
      ]
    },
    {
      "cell_type": "code",
      "execution_count": 44,
      "metadata": {
        "id": "7NRh2puSbPZV"
      },
      "outputs": [],
      "source": [
        "MAE = mean_absolute_error(y_test,test_predictions)\n",
        "MSE = mean_squared_error(y_test,test_predictions)\n",
        "RMSE = np.sqrt(MSE)"
      ]
    },
    {
      "cell_type": "code",
      "execution_count": 45,
      "metadata": {
        "colab": {
          "base_uri": "https://localhost:8080/"
        },
        "id": "SZNi0ZoFbPZW",
        "outputId": "5478bb53-8ec8-429f-a159-5be4fe4dd2d4"
      },
      "outputs": [
        {
          "output_type": "execute_result",
          "data": {
            "text/plain": [
              "202.0701704890897"
            ]
          },
          "metadata": {},
          "execution_count": 45
        }
      ],
      "source": [
        "MAE"
      ]
    },
    {
      "cell_type": "code",
      "execution_count": 46,
      "metadata": {
        "colab": {
          "base_uri": "https://localhost:8080/"
        },
        "id": "z-jl-4yibPZW",
        "outputId": "dd8166cf-8966-4d32-a157-3b9b9292c957"
      },
      "outputs": [
        {
          "output_type": "execute_result",
          "data": {
            "text/plain": [
              "50499.55700298098"
            ]
          },
          "metadata": {},
          "execution_count": 46
        }
      ],
      "source": [
        "MSE"
      ]
    },
    {
      "cell_type": "code",
      "execution_count": 47,
      "metadata": {
        "colab": {
          "base_uri": "https://localhost:8080/"
        },
        "id": "ppC0K_OObPZW",
        "outputId": "8ef5ea55-b3be-4578-ba90-13aa813595a4"
      },
      "outputs": [
        {
          "output_type": "execute_result",
          "data": {
            "text/plain": [
              "224.72106488485005"
            ]
          },
          "metadata": {},
          "execution_count": 47
        }
      ],
      "source": [
        "RMSE"
      ]
    },
    {
      "cell_type": "code",
      "execution_count": 49,
      "metadata": {
        "colab": {
          "base_uri": "https://localhost:8080/"
        },
        "id": "vkme7sdFbPZW",
        "outputId": "1946bc7d-8e50-4fbe-e99e-a515b732bdc8"
      },
      "outputs": [
        {
          "output_type": "execute_result",
          "data": {
            "text/plain": [
              "228.5"
            ]
          },
          "metadata": {},
          "execution_count": 49
        }
      ],
      "source": [
        "dataset['AQI'].mean()"
      ]
    },
    {
      "cell_type": "markdown",
      "metadata": {
        "id": "J1qsSt0nbPZX"
      },
      "source": [
        "---\n",
        "---\n",
        "## Choosing a Model\n",
        "\n",
        "### Adjusting Parameters\n",
        "\n",
        "Are we satisfied with this performance? Perhaps a higher order would improve performance even more! But how high is too high? It is now up to us to possibly go back and adjust our model and parameters, let's explore higher order Polynomials in a loop and plot out their error. This will nicely lead us into a discussion on Overfitting.\n",
        "\n",
        "Let's use a for loop to do the following:\n",
        "\n",
        "1. Create different order polynomial X data\n",
        "2. Split that polynomial data for train/test\n",
        "3. Fit on the training data\n",
        "4. Report back the metrics on *both* the train and test results\n",
        "5. Plot these results and explore overfitting"
      ]
    },
    {
      "cell_type": "code",
      "execution_count": 50,
      "metadata": {
        "id": "oJKGWllLbPZX"
      },
      "outputs": [],
      "source": [
        "# TRAINING ERROR PER DEGREE\n",
        "train_rmse_errors = []\n",
        "# TEST ERROR PER DEGREE\n",
        "test_rmse_errors = []\n",
        "\n",
        "for d in range(1,10):\n",
        "    \n",
        "    # CREATE POLY DATA SET FOR DEGREE \"d\"\n",
        "    polynomial_converter = PolynomialFeatures(degree=d,include_bias=False)\n",
        "    poly_features = polynomial_converter.fit_transform(X)\n",
        "    \n",
        "    # SPLIT THIS NEW POLY DATA SET\n",
        "    X_train, X_test, y_train, y_test = train_test_split(poly_features, y, test_size=0.3, random_state=101)\n",
        "    \n",
        "    # TRAIN ON THIS NEW POLY SET\n",
        "    model = LinearRegression(fit_intercept=True)\n",
        "    model.fit(X_train,y_train)\n",
        "    \n",
        "    # PREDICT ON BOTH TRAIN AND TEST\n",
        "    train_pred = model.predict(X_train)\n",
        "    test_pred = model.predict(X_test)\n",
        "    \n",
        "    # Calculate Errors\n",
        "    \n",
        "    # Errors on Train Set\n",
        "    train_RMSE = np.sqrt(mean_squared_error(y_train,train_pred))\n",
        "    \n",
        "    # Errors on Test Set\n",
        "    test_RMSE = np.sqrt(mean_squared_error(y_test,test_pred))\n",
        "\n",
        "    # Append errors to lists for plotting later\n",
        "    \n",
        "   \n",
        "    train_rmse_errors.append(train_RMSE)\n",
        "    test_rmse_errors.append(test_RMSE)"
      ]
    },
    {
      "cell_type": "code",
      "execution_count": 51,
      "metadata": {
        "colab": {
          "base_uri": "https://localhost:8080/",
          "height": 296
        },
        "id": "HjKlLCmXbPZY",
        "outputId": "18a60111-d48d-4c78-b0ba-4eaef43d98c1"
      },
      "outputs": [
        {
          "output_type": "execute_result",
          "data": {
            "text/plain": [
              "<matplotlib.legend.Legend at 0x7faf100e2d30>"
            ]
          },
          "metadata": {},
          "execution_count": 51
        },
        {
          "output_type": "display_data",
          "data": {
            "text/plain": [
              "<Figure size 432x288 with 1 Axes>"
            ],
            "image/png": "[encoded data removed]"
          },
          "metadata": {
            "needs_background": "light"
          }
        }
      ],
      "source": [
        "plt.plot(range(1,6),train_rmse_errors[:5],label='TRAIN')\n",
        "plt.plot(range(1,6),test_rmse_errors[:5],label='TEST')\n",
        "plt.xlabel(\"Polynomial Complexity\")\n",
        "plt.ylabel(\"RMSE\")\n",
        "plt.legend()"
      ]
    },
    {
      "cell_type": "code",
      "execution_count": 52,
      "metadata": {
        "colab": {
          "base_uri": "https://localhost:8080/",
          "height": 296
        },
        "id": "efdWh8JqbPZY",
        "outputId": "bd5afaf3-a203-47dc-ef28-6382b3033580"
      },
      "outputs": [
        {
          "output_type": "execute_result",
          "data": {
            "text/plain": [
              "<matplotlib.legend.Legend at 0x7faf0dfde3a0>"
            ]
          },
          "metadata": {},
          "execution_count": 52
        },
        {
          "output_type": "display_data",
          "data": {
            "text/plain": [
              "<Figure size 432x288 with 1 Axes>"
            ],
            "image/png": "[encoded data removed]"
          },
          "metadata": {
            "needs_background": "light"
          }
        }
      ],
      "source": [
        "plt.plot(range(1,10),train_rmse_errors,label='TRAIN')\n",
        "plt.plot(range(1,10),test_rmse_errors,label='TEST')\n",
        "plt.xlabel(\"Polynomial Complexity\")\n",
        "plt.ylabel(\"RMSE\")\n",
        "plt.legend()"
      ]
    },
    {
      "cell_type": "code",
      "execution_count": 53,
      "metadata": {
        "colab": {
          "base_uri": "https://localhost:8080/",
          "height": 300
        },
        "id": "t69G6XqJbPZY",
        "outputId": "2037ec6c-2752-4d81-c530-e858611ed13b"
      },
      "outputs": [
        {
          "output_type": "execute_result",
          "data": {
            "text/plain": [
              "<matplotlib.legend.Legend at 0x7faf0df55610>"
            ]
          },
          "metadata": {},
          "execution_count": 53
        },
        {
          "output_type": "display_data",
          "data": {
            "text/plain": [
              "<Figure size 432x288 with 1 Axes>"
            ],
            "image/png": "[encoded data removed]"
          },
          "metadata": {
            "needs_background": "light"
          }
        }
      ],
      "source": [
        "plt.plot(range(1,10),train_rmse_errors,label='TRAIN')\n",
        "plt.plot(range(1,10),test_rmse_errors,label='TEST')\n",
        "plt.xlabel(\"Polynomial Complexity\")\n",
        "plt.ylabel(\"RMSE\")\n",
        "plt.ylim(0,100)\n",
        "plt.legend()"
      ]
    },
    {
      "cell_type": "markdown",
      "metadata": {
        "id": "fxsaCHkpbPZY"
      },
      "source": [
        "## Finalizing Model Choice\n",
        "\n",
        "There are now 2 things we need to save, the Polynomial Feature creator AND the model itself. Let's explore how we would proceed from here:\n",
        "\n",
        "1. Choose final parameters based on test metrics\n",
        "2. Retrain on all data\n",
        "3. Save Polynomial Converter object\n",
        "4. Save model"
      ]
    },
    {
      "cell_type": "code",
      "execution_count": 54,
      "metadata": {
        "id": "OMAZHwqbbPZZ"
      },
      "outputs": [],
      "source": [
        "# Based on our chart, could have also been degree=4, but \n",
        "# it is better to be on the safe side of complexity\n",
        "final_poly_converter = PolynomialFeatures(degree=3,include_bias=False)"
      ]
    },
    {
      "cell_type": "code",
      "execution_count": 55,
      "metadata": {
        "id": "EugzlO4WbPZZ"
      },
      "outputs": [],
      "source": [
        "final_model = LinearRegression()"
      ]
    },
    {
      "cell_type": "code",
      "execution_count": 56,
      "metadata": {
        "colab": {
          "base_uri": "https://localhost:8080/"
        },
        "id": "YoDMiwQnbPZZ",
        "outputId": "d94e50bc-9464-42f2-a45d-05bd3939b2b6"
      },
      "outputs": [
        {
          "output_type": "execute_result",
          "data": {
            "text/plain": [
              "LinearRegression()"
            ]
          },
          "metadata": {},
          "execution_count": 56
        }
      ],
      "source": [
        "final_model.fit(final_poly_converter.fit_transform(X),y)"
      ]
    },
    {
      "cell_type": "markdown",
      "metadata": {
        "id": "S6hWTzszbPZZ"
      },
      "source": [
        "### Saving Model and Converter"
      ]
    },
    {
      "cell_type": "code",
      "execution_count": 59,
      "metadata": {
        "id": "2xsjzcA7bPZZ"
      },
      "outputs": [],
      "source": [
        "from joblib import dump, load"
      ]
    },
    {
      "cell_type": "code",
      "execution_count": 60,
      "metadata": {
        "colab": {
          "base_uri": "https://localhost:8080/"
        },
        "id": "jvTsZFB1bPZZ",
        "outputId": "394269f8-ed3c-4dd3-8a24-32c462f029cf"
      },
      "outputs": [
        {
          "output_type": "execute_result",
          "data": {
            "text/plain": [
              "['AQI_poly_model.joblib']"
            ]
          },
          "metadata": {},
          "execution_count": 60
        }
      ],
      "source": [
        "dump(final_model, 'AQI_poly_model.joblib') "
      ]
    },
    {
      "cell_type": "code",
      "execution_count": 61,
      "metadata": {
        "colab": {
          "base_uri": "https://localhost:8080/"
        },
        "id": "cW8kTUqebPZZ",
        "outputId": "e124422b-fae2-4e7e-c08c-675475e84f84"
      },
      "outputs": [
        {
          "output_type": "execute_result",
          "data": {
            "text/plain": [
              "['poly_converter.joblib']"
            ]
          },
          "metadata": {},
          "execution_count": 61
        }
      ],
      "source": [
        "dump(final_poly_converter,'poly_converter.joblib')"
      ]
    },
    {
      "cell_type": "markdown",
      "metadata": {
        "id": "9d_IrTTfbPZZ"
      },
      "source": [
        "## Deployment and Predictions"
      ]
    },
    {
      "cell_type": "markdown",
      "metadata": {
        "id": "K0qb19TkbPZZ"
      },
      "source": [
        "### Prediction on New Data\n",
        "\n",
        "Recall that we will need to **convert** any incoming data to polynomial data, since that is what our model is trained on. We simply load up our saved converter object and only call **.transform()** on the new data, since we're not refitting to a new data set.\n",
        "\n",
        "**Our next  campaign will have a Population of 100000, Literacy rate of 0.80 and GDP of 70 billion USD What will be the AQI of the city?**"
      ]
    },
    {
      "cell_type": "code",
      "execution_count": 62,
      "metadata": {
        "id": "dvDAWIT-bPZa"
      },
      "outputs": [],
      "source": [
        "loaded_poly = load('poly_converter.joblib')\n",
        "loaded_model = load('AQI_poly_model.joblib')"
      ]
    },
    {
      "cell_type": "markdown",
      "source": [],
      "metadata": {
        "id": "4g31rLXnvQmV"
      }
    },
    {
      "cell_type": "code",
      "execution_count": 71,
      "metadata": {
        "id": "qgHQCNogbPZa"
      },
      "outputs": [],
      "source": [
        "campaign = [[100000,0.80,70]]"
      ]
    },
    {
      "cell_type": "code",
      "execution_count": 72,
      "metadata": {
        "colab": {
          "base_uri": "https://localhost:8080/"
        },
        "id": "uEuUhE0MbPZa",
        "outputId": "9f6992ed-4be7-4d69-8d2c-f94844392d69"
      },
      "outputs": [
        {
          "output_type": "stream",
          "name": "stderr",
          "text": [
            "/usr/local/lib/python3.8/dist-packages/sklearn/base.py:450: UserWarning: X does not have valid feature names, but PolynomialFeatures was fitted with feature names\n",
            "  warnings.warn(\n"
          ]
        }
      ],
      "source": [
        "campaign_poly = loaded_poly.transform(campaign)"
      ]
    },
    {
      "cell_type": "code",
      "execution_count": 73,
      "metadata": {
        "colab": {
          "base_uri": "https://localhost:8080/"
        },
        "id": "LwL28-P9bPZa",
        "outputId": "69515ab8-8535-4f1b-f5ca-b0bb26dd4f63"
      },
      "outputs": [
        {
          "output_type": "execute_result",
          "data": {
            "text/plain": [
              "array([[1.00e+05, 8.00e-01, 7.00e+01, 1.00e+10, 8.00e+04, 7.00e+06,\n",
              "        6.40e-01, 5.60e+01, 4.90e+03, 1.00e+15, 8.00e+09, 7.00e+11,\n",
              "        6.40e+04, 5.60e+06, 4.90e+08, 5.12e-01, 4.48e+01, 3.92e+03,\n",
              "        3.43e+05]])"
            ]
          },
          "metadata": {},
          "execution_count": 73
        }
      ],
      "source": [
        "campaign_poly"
      ]
    },
    {
      "cell_type": "code",
      "execution_count": 74,
      "metadata": {
        "colab": {
          "base_uri": "https://localhost:8080/"
        },
        "id": "vX3nKtnEbPZa",
        "outputId": "28075f3f-8fa9-4825-ed8e-a7e90614e5d7"
      },
      "outputs": [
        {
          "output_type": "execute_result",
          "data": {
            "text/plain": [
              "array([234.90140365])"
            ]
          },
          "metadata": {},
          "execution_count": 74
        }
      ],
      "source": [
        "final_model.predict(campaign_poly)"
      ]
    }
  ],
  "metadata": {
    "anaconda-cloud": {},
    "kernelspec": {
      "display_name": "Python 3",
      "language": "python",
      "name": "python3"
    },
    "language_info": {
      "codemirror_mode": {
        "name": "ipython",
        "version": 3
      },
      "file_extension": ".py",
      "mimetype": "text/x-python",
      "name": "python",
      "nbconvert_exporter": "python",
      "pygments_lexer": "ipython3",
      "version": "3.7.6"
    },
    "colab": {
      "provenance": []
    }
  },
  "nbformat": 4,
  "nbformat_minor": 0
}